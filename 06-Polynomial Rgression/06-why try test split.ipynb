{
 "cells": [
  {
   "cell_type": "code",
   "execution_count": 2,
   "metadata": {},
   "outputs": [],
   "source": [
    "import numpy as np\n",
    "import matplotlib.pyplot as plt"
   ]
  },
  {
   "cell_type": "code",
   "execution_count": 3,
   "metadata": {},
   "outputs": [],
   "source": [
    "np.random.seed(666)\n",
    "x = np.random.uniform(-3., 3., size=100)  # 均匀分布\n",
    "X = x.reshape(-1, 1)\n",
    "y = 0.5 * x ** 2 + x + 2 + np.random.normal(0, 1, size=100)"
   ]
  },
  {
   "cell_type": "markdown",
   "metadata": {},
   "source": [
    "## 过拟合"
   ]
  },
  {
   "cell_type": "code",
   "execution_count": 17,
   "metadata": {},
   "outputs": [],
   "source": [
    "from sklearn.pipeline import Pipeline\n",
    "from sklearn.preprocessing import StandardScaler\n",
    "from sklearn.preprocessing import PolynomialFeatures\n",
    "from sklearn.linear_model import LinearRegression\n",
    "\n",
    "lin_reg = LinearRegression()\n",
    "def PolynomialRegression(degrees):\n",
    "    return Pipeline([\n",
    "        (\"poly\", PolynomialFeatures(degree=degrees)),\n",
    "        (\"std_sclar\", StandardScaler()),\n",
    "         (\"lin_reg\", lin_reg)\n",
    "    ])"
   ]
  },
  {
   "cell_type": "code",
   "execution_count": 18,
   "metadata": {},
   "outputs": [],
   "source": [
    "from sklearn.metrics import mean_squared_error"
   ]
  },
  {
   "cell_type": "code",
   "execution_count": 19,
   "metadata": {},
   "outputs": [
    {
     "data": {
      "text/plain": [
       "0.7097177265221079"
      ]
     },
     "execution_count": 19,
     "metadata": {},
     "output_type": "execute_result"
    }
   ],
   "source": [
    "poly100_reg = PolynomialRegression(degrees=100)\n",
    "poly100_reg.fit(X, y)\n",
    "\n",
    "y100_predict = poly100_reg.predict(X)\n",
    "mean_squared_error(y, y100_predict)"
   ]
  },
  {
   "cell_type": "code",
   "execution_count": 20,
   "metadata": {},
   "outputs": [
    {
     "data": {
      "image/png": "[encoded data removed]",
      "text/plain": [
       "<Figure size 432x288 with 1 Axes>"
      ]
     },
     "metadata": {
      "needs_background": "light"
     },
     "output_type": "display_data"
    }
   ],
   "source": [
    "plt.scatter(x,y)\n",
    "plt.plot(np.sort(x), y100_predict[np.argsort(x)], color='r')\n",
    "plt.axis([-3, 3, 0, 10])\n",
    "plt.show()"
   ]
  },
  {
   "cell_type": "code",
   "execution_count": 21,
   "metadata": {},
   "outputs": [
    {
     "data": {
      "text/plain": [
       "array([-1.62018854e+13,  1.24517151e+01,  1.92603604e+02, -3.16693610e+02,\n",
       "       -2.02145360e+04, -1.53949382e+04,  9.82435489e+05,  8.31981246e+05,\n",
       "       -2.74201502e+07, -1.45830630e+07,  4.91509398e+08,  1.07238018e+08,\n",
       "       -6.03048411e+09,  6.70205409e+07,  5.26001966e+10, -8.19168371e+09,\n",
       "       -3.33284526e+11,  7.82982484e+10,  1.54751671e+12, -4.15811373e+11,\n",
       "       -5.24117293e+12,  1.43065873e+12,  1.26417104e+13, -3.27893202e+12,\n",
       "       -2.03816163e+13,  4.82284212e+12,  1.80870361e+13, -3.88531632e+12,\n",
       "       -1.76688488e+11,  4.75008357e+11, -1.57950131e+13,  1.62356391e+12,\n",
       "        6.25598564e+12, -2.46376192e+11,  1.20298995e+13, -1.48793741e+12,\n",
       "       -3.76959561e+12,  1.46650430e+12, -1.01812707e+13, -9.88586171e+11,\n",
       "       -3.62844981e+12,  3.85439611e+09,  8.75867767e+12,  1.38837184e+11,\n",
       "        9.00369415e+12,  1.88331648e+12, -1.92774128e+12, -1.90233331e+12,\n",
       "       -9.43392621e+12, -1.19408232e+11, -4.04579898e+12,  9.77879601e+11,\n",
       "       -1.40222637e+12, -1.17322850e+12,  6.00379683e+12, -5.86699056e+11,\n",
       "        1.08684766e+13, -9.80889610e+11, -5.86238233e+11,  4.68566909e+12,\n",
       "       -4.80711601e+12, -1.85105358e+11, -6.82552587e+12,  1.33758808e+12,\n",
       "       -6.05328143e+12, -5.81009086e+12,  1.92222962e+12, -3.00812210e+11,\n",
       "        6.21832325e+12, -4.32569937e+12,  7.50513111e+12,  5.94102003e+12,\n",
       "        1.54238286e+12,  5.16868789e+12, -1.51963925e+12,  7.22501810e+11,\n",
       "       -6.31097454e+12, -7.23840432e+11, -6.94820882e+12, -2.99673859e+12,\n",
       "       -2.43294070e+12, -7.69103926e+12,  8.21476479e+12, -1.40516344e+12,\n",
       "        3.87712607e+12,  5.31388830e+12,  3.37042479e+12,  7.65089942e+12,\n",
       "       -3.10463383e+12,  4.52347087e+11, -3.03989798e+12, -1.60828783e+12,\n",
       "       -4.01645765e+12, -8.22776111e+12,  1.74988880e+12, -1.99993624e+12,\n",
       "        4.61405301e+12,  1.00235478e+13, -2.26452624e+12, -3.84888879e+12,\n",
       "       -3.19278623e+10])"
      ]
     },
     "execution_count": 21,
     "metadata": {},
     "output_type": "execute_result"
    }
   ],
   "source": [
    "lin_reg.coef_"
   ]
  },
  {
   "cell_type": "code",
   "execution_count": null,
   "metadata": {},
   "outputs": [],
   "source": []
  }
 ],
 "metadata": {
  "kernelspec": {
   "display_name": "Python 3",
   "language": "python",
   "name": "python3"
  },
  "language_info": {
   "codemirror_mode": {
    "name": "ipython",
    "version": 3
   },
   "file_extension": ".py",
   "mimetype": "text/x-python",
   "name": "python",
   "nbconvert_exporter": "python",
   "pygments_lexer": "ipython3",
   "version": "3.7.3"
  }
 },
 "nbformat": 4,
 "nbformat_minor": 2
}
