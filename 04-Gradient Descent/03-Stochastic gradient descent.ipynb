{
 "cells": [
  {
   "cell_type": "code",
   "execution_count": 1,
   "metadata": {},
   "outputs": [],
   "source": [
    "import numpy as np\n",
    "import matplotlib.pyplot as plt"
   ]
  },
  {
   "cell_type": "code",
   "execution_count": 2,
   "metadata": {},
   "outputs": [],
   "source": [
    "m = 100000\n",
    "\n",
    "x = np.random.random(size=m)\n",
    "X = x.reshape(-1,1)"
   ]
  },
  {
   "cell_type": "code",
   "execution_count": 5,
   "metadata": {},
   "outputs": [],
   "source": [
    "y = 4. * x + 3. + np.random.normal(0, 3, size=m)"
   ]
  },
  {
   "cell_type": "code",
   "execution_count": 6,
   "metadata": {},
   "outputs": [
    {
     "data": {
      "text/plain": [
       "(100000, 1)"
      ]
     },
     "execution_count": 6,
     "metadata": {},
     "output_type": "execute_result"
    }
   ],
   "source": [
    "X.shape"
   ]
  },
  {
   "cell_type": "code",
   "execution_count": 17,
   "metadata": {},
   "outputs": [],
   "source": [
    "def J(theta, x_b, y):\n",
    "    try:\n",
    "        return np.sum((y - x_b.dot(theta)) ** 2) / len(y)\n",
    "    except:\n",
    "        return float('inf')\n",
    "\n",
    "def DJ(theta, x_b, y):\n",
    "    return x_b.T.dot(x_b.dot(theta) - y) * 2 / len(y)\n",
    "\n",
    "def gradient_descent(x_b, y, int_theta, eta, n_iters=1e4, epsilon=1e-8):\n",
    "    theta = int_theta\n",
    "    i_ters = 0\n",
    "    \n",
    "    while i_ters < n_iters:\n",
    "        gradient = DJ(theta, x_b, y)\n",
    "        last_theta = theta\n",
    "        theta = theta - eta * gradient\n",
    "        \n",
    "        if (abs(J(theta, x_b, y) - J(last_theta, x_b, y)) < epsilon):\n",
    "            break\n",
    "        i_ters += 1\n",
    "    \n",
    "    return theta"
   ]
  },
  {
   "cell_type": "code",
   "execution_count": 15,
   "metadata": {},
   "outputs": [
    {
     "name": "stdout",
     "output_type": "stream",
     "text": [
      "Wall time: 30.8 s\n"
     ]
    }
   ],
   "source": [
    "%%time\n",
    "X_b = np.hstack([np.ones((len(X), 1)), X]) # 为x添加一列\n",
    "ini_theta = np.zeros(X_b.shape[1])\n",
    "eta = 0.01\n",
    "theta = gradient_descent(X_b, y, ini_theta, eta)\n",
    "theta"
   ]
  },
  {
   "cell_type": "code",
   "execution_count": 18,
   "metadata": {},
   "outputs": [
    {
     "data": {
      "text/plain": [
       "array([3.00360224, 4.01283393])"
      ]
     },
     "execution_count": 18,
     "metadata": {},
     "output_type": "execute_result"
    }
   ],
   "source": [
    "X_b = np.hstack([np.ones((len(X), 1)), X]) # 为x添加一列\n",
    "ini_theta = np.zeros(X_b.shape[1])\n",
    "eta = 0.01\n",
    "theta = gradient_descent(X_b, y, ini_theta, eta)\n",
    "theta"
   ]
  },
  {
   "cell_type": "code",
   "execution_count": 19,
   "metadata": {},
   "outputs": [],
   "source": [
    "def DJ_sgd(theta, x_b_i, y_i):\n",
    "    return x_b_i.T.dot(x_b_i.dot(theta) - y_i) * 2"
   ]
  },
  {
   "cell_type": "code",
   "execution_count": 28,
   "metadata": {},
   "outputs": [],
   "source": [
    "def sgd(X_b, y, int_theta, n_iters=1e4):\n",
    "    \n",
    "    t0 = 5\n",
    "    t1 = 50\n",
    "    \n",
    "    def learning_rate(t):\n",
    "        return t0 / (t + t1)\n",
    "    \n",
    "    theta = int_theta\n",
    "    \n",
    "    for cur_inter in range(n_iters):\n",
    "        rand_i = np.random.randint(len(X_b))\n",
    "        gradient = DJ_sgd(theta, X_b[rand_i], y[rand_i])\n",
    "        theta = theta - learning_rate(cur_inter) * gradient\n",
    "    \n",
    "    return theta"
   ]
  },
  {
   "cell_type": "code",
   "execution_count": 29,
   "metadata": {},
   "outputs": [
    {
     "name": "stdout",
     "output_type": "stream",
     "text": [
      "Wall time: 598 ms\n"
     ]
    }
   ],
   "source": [
    "%%time\n",
    "X_b = np.hstack([np.ones((len(X), 1)), X]) # 为x添加一列\n",
    "ini_theta = np.zeros(X_b.shape[1])\n",
    "theta = sgd(X_b, y, ini_theta, n_iters=len(X_b)//3)"
   ]
  },
  {
   "cell_type": "code",
   "execution_count": 30,
   "metadata": {},
   "outputs": [],
   "source": [
    "X_b = np.hstack([np.ones((len(X), 1)), X]) # 为x添加一列\n",
    "ini_theta = np.zeros(X_b.shape[1])\n",
    "theta = sgd(X_b, y, ini_theta, n_iters=len(X_b)//3)"
   ]
  },
  {
   "cell_type": "code",
   "execution_count": 31,
   "metadata": {},
   "outputs": [
    {
     "data": {
      "text/plain": [
       "array([2.95171417, 4.07894838])"
      ]
     },
     "execution_count": 31,
     "metadata": {},
     "output_type": "execute_result"
    }
   ],
   "source": [
    "theta"
   ]
  },
  {
   "cell_type": "code",
   "execution_count": 32,
   "metadata": {},
   "outputs": [
    {
     "data": {
      "text/plain": [
       "array([3.01681474, 3.98502281])"
      ]
     },
     "execution_count": 32,
     "metadata": {},
     "output_type": "execute_result"
    }
   ],
   "source": [
    "X_b = np.hstack([np.ones((len(X), 1)), X]) # 为x添加一列\n",
    "ini_theta = np.zeros(X_b.shape[1])\n",
    "theta = sgd(X_b, y, ini_theta, n_iters=len(X_b))\n",
    "theta"
   ]
  },
  {
   "cell_type": "code",
   "execution_count": 69,
   "metadata": {},
   "outputs": [],
   "source": [
    "class my_LinearRegnession:\n",
    "    \n",
    "    def __init__(self):\n",
    "        self.conf_ = None\n",
    "        self.itercept_ = None\n",
    "        self._theta = None\n",
    "        \n",
    "    def fit_normal(self, x_train, y_train):\n",
    "        assert x_train.shape[0] == y_train.shape[0], \\\n",
    "            \"the size\"\n",
    "        X_b = np.hstack([np.ones((len(x_train), 1)),x_train])\n",
    "        self._theta = np.linalg.inv(X_b.T.dot(X_b)).dot(X_b.T).dot(y_train)  # np.linalg.inv 求逆\n",
    "        self.itercept_ = self._theta[0]\n",
    "        self.conf_ = self._theta[1:]\n",
    "        \n",
    "        return self\n",
    "    \n",
    "    def fit_gb(self, x_train, y_train):\n",
    "        assert x_train.shape[0] == y_train.shape[0], \\\n",
    "            \"the size\"\n",
    "        def J(theta, x_b, y):\n",
    "            try:\n",
    "                return np.sum((y - x_b.dot(theta)) ** 2) / len(y)\n",
    "            except:\n",
    "                return float('inf')\n",
    "        \n",
    "        def DJ(theta, x_b, y):\n",
    "            res = np.empty(len(theta))\n",
    "\n",
    "            res[0] = np.sum(x_b.dot(theta) - y)\n",
    "\n",
    "            for i in range(1, len(theta)):\n",
    "                res[i] = (x_b.dot(theta) - y).dot(x_b[:, i])\n",
    "\n",
    "            return res * 2 / len(x_b)\n",
    "        \n",
    "        def gradient_descent(x_b, y, int_theta, eta, n_iters=1e4, epsilon=1e-8):\n",
    "            theta = int_theta\n",
    "            i_ters = 0\n",
    "\n",
    "            while i_ters < n_iters:\n",
    "                gradient = DJ(theta, x_b, y)\n",
    "                last_theta = theta\n",
    "                theta = theta - eta * gradient\n",
    "\n",
    "                if (abs(J(theta, x_b, y) - J(last_theta, x_b, y)) < epsilon):\n",
    "                    break\n",
    "                i_ters += 1\n",
    "\n",
    "            return theta\n",
    "        \n",
    "        X_b = np.hstack([np.ones((len(X), 1)), X]) # 为x添加一列\n",
    "        ini_theta = np.zeros(X_b.shape[1])\n",
    "        self._theta = gradient_descent(X_b, y,ini_theta, eta)\n",
    "        self.itercept_ = self._theta[0]\n",
    "        self.conf_ = self._theta[1:]\n",
    "        \n",
    "        return self\n",
    "    \n",
    "    def fit_sgd(self, X_train, y_train, n_iters=5, t0=5, t1=50):\n",
    "        assert X_train.shape[0] == y_train.shape[0], \\\n",
    "            \"the size\"\n",
    "        assert n_iters >= 1, \"n_iters > 0\"\n",
    "        \n",
    "        def DJ_sgd(theta, X_b_i, y_i):\n",
    "            return X_b_i.T.dot(X_b_i.dot(theta) - y_i) * 2\n",
    "        \n",
    "        def sgd(X_b, y, int_theta, n_iters=1e4, t0=5, t1=50):\n",
    "    \n",
    "            def learning_rate(t):\n",
    "                return t0 / (t + t1)\n",
    "\n",
    "            theta = int_theta\n",
    "            m = len(X_b)\n",
    "\n",
    "            for cur_inter in range(n_iters):\n",
    "                indexs = np.random.permutation(m)\n",
    "                X_b_new = X_b[indexs]\n",
    "                y_new = y[indexs]\n",
    "                for i in range(m):\n",
    "                    gradient = DJ_sgd(theta, X_b_new[i], y_new[i])\n",
    "                    theta = theta - learning_rate(cur_inter * m + i) * gradient\n",
    "\n",
    "            return theta\n",
    "        \n",
    "        X_b = np.hstack([np.ones((len(X_train), 1)), X_train]) # 为x添加一列\n",
    "        ini_theta = np.random.randn(X_b.shape[1])\n",
    "        self._theta = sgd(X_b, y_train, ini_theta, n_iters, t0, t1)\n",
    "        self.itercept_ = self._theta[0]\n",
    "        self.conf_ = self._theta[1:]\n",
    "        \n",
    "        return self\n",
    "    \n",
    "    def predict(self, x_predict):\n",
    "        assert self.itercept_ is not None and self.conf_ is not None, \\\n",
    "            \"fit before\"\n",
    "        assert x_predict.shape[1] == len(self.conf_), \\\n",
    "            \"number \"\n",
    "        X_b = np.hstack([np.ones((len(x_predict), 1)), x_predict])\n",
    "        \n",
    "        return X_b.dot(self._theta)\n",
    "    \n",
    "    def my_mean_squared_error(self, y_true, y_predict):\n",
    "        return np.sum((y_predict - y_true) ** 2) / len(y_true)\n",
    "    \n",
    "    def my_r2_score(self, y_true, y_predict):\n",
    "        return 1 - self.my_mean_squared_error(y_true, y_predict) / np.var(y_true)\n",
    " \n",
    "    def score(self, x_test, y_test):\n",
    "        y_redict = self.predict(x_test)\n",
    "        return self.my_r2_score(y_test, y_redict)\n",
    "    \n",
    "    def __repr__(self):\n",
    "        return \"my_LinearRegnession()\""
   ]
  },
  {
   "cell_type": "markdown",
   "metadata": {},
   "source": [
    "### 使用自己的SGD"
   ]
  },
  {
   "cell_type": "code",
   "execution_count": 70,
   "metadata": {},
   "outputs": [],
   "source": [
    "m = 100000\n",
    "\n",
    "x = np.random.random(size=m)\n",
    "X = x.reshape(-1,1)\n",
    "y = 4. * x + 3. + np.random.normal(0, 3, size=m)"
   ]
  },
  {
   "cell_type": "code",
   "execution_count": 71,
   "metadata": {},
   "outputs": [],
   "source": [
    "lin_reg = my_LinearRegnession()"
   ]
  },
  {
   "cell_type": "code",
   "execution_count": 72,
   "metadata": {},
   "outputs": [
    {
     "data": {
      "text/plain": [
       "my_LinearRegnession()"
      ]
     },
     "execution_count": 72,
     "metadata": {},
     "output_type": "execute_result"
    }
   ],
   "source": [
    "lin_reg.fit_sgd(X, y, n_iters=2)"
   ]
  },
  {
   "cell_type": "code",
   "execution_count": 73,
   "metadata": {},
   "outputs": [
    {
     "data": {
      "text/plain": [
       "array([3.96546316])"
      ]
     },
     "execution_count": 73,
     "metadata": {},
     "output_type": "execute_result"
    }
   ],
   "source": [
    "lin_reg.conf_"
   ]
  },
  {
   "cell_type": "code",
   "execution_count": 74,
   "metadata": {},
   "outputs": [
    {
     "data": {
      "text/plain": [
       "3.0129855701325763"
      ]
     },
     "execution_count": 74,
     "metadata": {},
     "output_type": "execute_result"
    }
   ],
   "source": [
    "lin_reg.itercept_"
   ]
  },
  {
   "cell_type": "markdown",
   "metadata": {},
   "source": [
    "### 使用真实的数据"
   ]
  },
  {
   "cell_type": "code",
   "execution_count": 75,
   "metadata": {},
   "outputs": [],
   "source": [
    "from sklearn import datasets"
   ]
  },
  {
   "cell_type": "code",
   "execution_count": 76,
   "metadata": {},
   "outputs": [],
   "source": [
    "boston = datasets.load_boston()\n",
    "\n",
    "X = boston.data\n",
    "y = boston.target\n",
    "\n",
    "X = X[y < 50.0]\n",
    "y = y[y < 50.0]"
   ]
  },
  {
   "cell_type": "code",
   "execution_count": 77,
   "metadata": {},
   "outputs": [],
   "source": [
    "from sklearn.model_selection import train_test_split"
   ]
  },
  {
   "cell_type": "code",
   "execution_count": 78,
   "metadata": {},
   "outputs": [],
   "source": [
    "x_train, x_test, y_train, y_test = train_test_split(X, y, test_size=0.2, random_state=666)"
   ]
  },
  {
   "cell_type": "code",
   "execution_count": 79,
   "metadata": {},
   "outputs": [],
   "source": [
    "from sklearn.preprocessing import StandardScaler\n",
    "standarScaler = StandardScaler()\n",
    "standarScaler.fit(x_train)\n",
    "x_train_stand = standarScaler.transform(x_train)\n",
    "x_test_stand = standarScaler.transform(x_test)"
   ]
  },
  {
   "cell_type": "code",
   "execution_count": 103,
   "metadata": {},
   "outputs": [
    {
     "data": {
      "text/plain": [
       "0.7812439799187596"
      ]
     },
     "execution_count": 103,
     "metadata": {},
     "output_type": "execute_result"
    }
   ],
   "source": [
    "lin_reg1 = my_LinearRegnession()\n",
    "lin_reg1.fit_sgd(x_train_stand, y_train, n_iters=2)\n",
    "lin_reg1.score(x_test_stand, y_test)"
   ]
  },
  {
   "cell_type": "code",
   "execution_count": 113,
   "metadata": {},
   "outputs": [
    {
     "data": {
      "text/plain": [
       "0.8131998413030975"
      ]
     },
     "execution_count": 113,
     "metadata": {},
     "output_type": "execute_result"
    }
   ],
   "source": [
    "lin_reg1 = my_LinearRegnession()\n",
    "lin_reg1.fit_sgd(x_train_stand, y_train, n_iters=50)\n",
    "lin_reg1.score(x_test_stand, y_test)"
   ]
  },
  {
   "cell_type": "markdown",
   "metadata": {},
   "source": [
    "### sklearn 中的SGD"
   ]
  },
  {
   "cell_type": "code",
   "execution_count": 114,
   "metadata": {},
   "outputs": [],
   "source": [
    "from sklearn.linear_model import SGDRegressor"
   ]
  },
  {
   "cell_type": "code",
   "execution_count": 115,
   "metadata": {},
   "outputs": [],
   "source": [
    "sgd_reg = SGDRegressor()"
   ]
  },
  {
   "cell_type": "code",
   "execution_count": 116,
   "metadata": {},
   "outputs": [
    {
     "name": "stdout",
     "output_type": "stream",
     "text": [
      "Wall time: 19 ms\n"
     ]
    },
    {
     "name": "stderr",
     "output_type": "stream",
     "text": [
      "d:\\Users\\wzy\\Anaconda3\\lib\\site-packages\\sklearn\\linear_model\\stochastic_gradient.py:166: FutureWarning: max_iter and tol parameters have been added in SGDRegressor in 0.19. If both are left unset, they default to max_iter=5 and tol=None. If tol is not None, max_iter defaults to max_iter=1000. From 0.21, default max_iter will be 1000, and default tol will be 1e-3.\n",
      "  FutureWarning)\n"
     ]
    },
    {
     "data": {
      "text/plain": [
       "0.8034735378672317"
      ]
     },
     "execution_count": 116,
     "metadata": {},
     "output_type": "execute_result"
    }
   ],
   "source": [
    "%time sgd_reg.fit(x_train_stand, y_train)\n",
    "sgd_reg.score(x_test_stand, y_test)"
   ]
  },
  {
   "cell_type": "code",
   "execution_count": 117,
   "metadata": {},
   "outputs": [
    {
     "name": "stdout",
     "output_type": "stream",
     "text": [
      "Wall time: 9.99 ms\n"
     ]
    },
    {
     "name": "stderr",
     "output_type": "stream",
     "text": [
      "d:\\Users\\wzy\\Anaconda3\\lib\\site-packages\\sklearn\\linear_model\\stochastic_gradient.py:152: DeprecationWarning: n_iter parameter is deprecated in 0.19 and will be removed in 0.21. Use max_iter and tol instead.\n",
      "  DeprecationWarning)\n"
     ]
    },
    {
     "data": {
      "text/plain": [
       "0.8133723789110521"
      ]
     },
     "execution_count": 117,
     "metadata": {},
     "output_type": "execute_result"
    }
   ],
   "source": [
    "sgd_reg = SGDRegressor(n_iter=100)\n",
    "%time sgd_reg.fit(x_train_stand, y_train)\n",
    "sgd_reg.score(x_test_stand, y_test)"
   ]
  },
  {
   "cell_type": "code",
   "execution_count": null,
   "metadata": {},
   "outputs": [],
   "source": []
  }
 ],
 "metadata": {
  "kernelspec": {
   "display_name": "Python 3",
   "language": "python",
   "name": "python3"
  },
  "language_info": {
   "codemirror_mode": {
    "name": "ipython",
    "version": 3
   },
   "file_extension": ".py",
   "mimetype": "text/x-python",
   "name": "python",
   "nbconvert_exporter": "python",
   "pygments_lexer": "ipython3",
   "version": "3.7.3"
  }
 },
 "nbformat": 4,
 "nbformat_minor": 2
}
