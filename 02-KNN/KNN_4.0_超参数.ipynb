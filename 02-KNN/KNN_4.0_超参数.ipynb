{
 "cells": [
  {
   "cell_type": "markdown",
   "metadata": {},
   "source": [
    "## 超参数"
   ]
  },
  {
   "cell_type": "code",
   "execution_count": 2,
   "metadata": {},
   "outputs": [],
   "source": [
    "import numpy as np\n",
    "from sklearn import datasets"
   ]
  },
  {
   "cell_type": "code",
   "execution_count": 3,
   "metadata": {},
   "outputs": [],
   "source": [
    "digits = datasets.load_digits()"
   ]
  },
  {
   "cell_type": "code",
   "execution_count": 4,
   "metadata": {},
   "outputs": [],
   "source": [
    "X = digits.data\n",
    "y = digits.target"
   ]
  },
  {
   "cell_type": "code",
   "execution_count": 5,
   "metadata": {},
   "outputs": [],
   "source": [
    "from sklearn.model_selection import train_test_split"
   ]
  },
  {
   "cell_type": "code",
   "execution_count": 7,
   "metadata": {},
   "outputs": [],
   "source": [
    "x_train, x_test, y_train, y_test = train_test_split(X, y, test_size=0.2, random_state=666)"
   ]
  },
  {
   "cell_type": "code",
   "execution_count": 8,
   "metadata": {},
   "outputs": [],
   "source": [
    "from sklearn.neighbors import KNeighborsClassifier"
   ]
  },
  {
   "cell_type": "code",
   "execution_count": 9,
   "metadata": {},
   "outputs": [
    {
     "data": {
      "text/plain": [
       "0.9888888888888889"
      ]
     },
     "execution_count": 9,
     "metadata": {},
     "output_type": "execute_result"
    }
   ],
   "source": [
    "knn_clf = KNeighborsClassifier(n_neighbors=3)\n",
    "knn_clf.fit(x_train, y_train)\n",
    "knn_clf.score(x_test, y_test)"
   ]
  },
  {
   "cell_type": "markdown",
   "metadata": {},
   "source": [
    "## 寻找最好的K"
   ]
  },
  {
   "cell_type": "code",
   "execution_count": 13,
   "metadata": {},
   "outputs": [
    {
     "name": "stdout",
     "output_type": "stream",
     "text": [
      "best K: 4\n",
      "best score: 0.9916666666666667\n",
      "Wall time: 974 ms\n"
     ]
    }
   ],
   "source": [
    "%%time\n",
    "best_score = 0.0\n",
    "best_k = -1\n",
    "for k in range(1, 11):\n",
    "    knn_clf = KNeighborsClassifier(n_neighbors=k)\n",
    "    knn_clf.fit(x_train, y_train)\n",
    "    score = knn_clf.score(x_test, y_test)\n",
    "    if score > best_score:\n",
    "        best_score = score\n",
    "        best_k = k\n",
    "print(\"best K:\", best_k)\n",
    "print(\"best score:\", best_score)"
   ]
  },
  {
   "cell_type": "markdown",
   "metadata": {},
   "source": [
    "### 考虑距离？不考虑距离？"
   ]
  },
  {
   "cell_type": "code",
   "execution_count": 16,
   "metadata": {},
   "outputs": [
    {
     "name": "stdout",
     "output_type": "stream",
     "text": [
      "method: uniform\n",
      "K: 1\n",
      "score: 0.9833333333333333\n",
      "K: 2\n",
      "score: 0.9888888888888889\n",
      "K: 3\n",
      "score: 0.9888888888888889\n",
      "K: 4\n",
      "score: 0.9916666666666667\n",
      "K: 5\n",
      "score: 0.9888888888888889\n",
      "K: 6\n",
      "score: 0.9888888888888889\n",
      "K: 7\n",
      "score: 0.9861111111111112\n",
      "K: 8\n",
      "score: 0.9861111111111112\n",
      "K: 9\n",
      "score: 0.9833333333333333\n",
      "K: 10\n",
      "score: 0.9833333333333333\n",
      "method: distance\n",
      "K: 1\n",
      "score: 0.9833333333333333\n",
      "K: 2\n",
      "score: 0.9861111111111112\n",
      "K: 3\n",
      "score: 0.9888888888888889\n",
      "K: 4\n",
      "score: 0.9888888888888889\n",
      "K: 5\n",
      "score: 0.9888888888888889\n",
      "K: 6\n",
      "score: 0.9888888888888889\n",
      "K: 7\n",
      "score: 0.9888888888888889\n",
      "K: 8\n",
      "score: 0.9888888888888889\n",
      "K: 9\n",
      "score: 0.9861111111111112\n",
      "K: 10\n",
      "score: 0.9861111111111112\n",
      "best method: uniform\n",
      "best K: 4\n",
      "best score: 0.9916666666666667\n",
      "Wall time: 2.07 s\n"
     ]
    }
   ],
   "source": [
    "%%time\n",
    "best_method = \"\"\n",
    "best_score = 0.0\n",
    "best_k = -1\n",
    "for method in [\"uniform\", \"distance\"]:\n",
    "    print(\"method:\", method)   \n",
    "    for k in range(1, 11):\n",
    "        knn_clf = KNeighborsClassifier(n_neighbors=k, weights=method)\n",
    "        knn_clf.fit(x_train, y_train)\n",
    "        score = knn_clf.score(x_test, y_test)\n",
    "        if score > best_score:\n",
    "            best_score = score\n",
    "            best_k = k\n",
    "            best_method = method  \n",
    "        print(\"K:\", k)\n",
    "        print(\"score:\", score)\n",
    "\n",
    "print(\"best method:\", best_method)           \n",
    "print(\"best K:\", best_k)\n",
    "print(\"best score:\", best_score)"
   ]
  },
  {
   "cell_type": "markdown",
   "metadata": {},
   "source": [
    "### 探索明可夫斯基距离相应的p"
   ]
  },
  {
   "cell_type": "code",
   "execution_count": 18,
   "metadata": {},
   "outputs": [
    {
     "name": "stdout",
     "output_type": "stream",
     "text": [
      "K: 1\n",
      "\tp: 1\n",
      "\tscore: 0.9861111111111112\n",
      "\tp: 2\n",
      "\tscore: 0.9833333333333333\n",
      "\tp: 3\n",
      "\tscore: 0.9861111111111112\n",
      "\tp: 4\n",
      "\tscore: 0.9861111111111112\n",
      "\tp: 5\n",
      "\tscore: 0.9861111111111112\n",
      "K: 2\n",
      "\tp: 1\n",
      "\tscore: 0.9861111111111112\n",
      "\tp: 2\n",
      "\tscore: 0.9861111111111112\n",
      "\tp: 3\n",
      "\tscore: 0.9861111111111112\n",
      "\tp: 4\n",
      "\tscore: 0.9861111111111112\n",
      "\tp: 5\n",
      "\tscore: 0.9861111111111112\n",
      "K: 3\n",
      "\tp: 1\n",
      "\tscore: 0.9833333333333333\n",
      "\tp: 2\n",
      "\tscore: 0.9888888888888889\n",
      "\tp: 3\n",
      "\tscore: 0.9833333333333333\n",
      "\tp: 4\n",
      "\tscore: 0.9833333333333333\n",
      "\tp: 5\n",
      "\tscore: 0.9833333333333333\n",
      "K: 4\n",
      "\tp: 1\n",
      "\tscore: 0.9833333333333333\n",
      "\tp: 2\n",
      "\tscore: 0.9888888888888889\n",
      "\tp: 3\n",
      "\tscore: 0.9861111111111112\n",
      "\tp: 4\n",
      "\tscore: 0.9833333333333333\n",
      "\tp: 5\n",
      "\tscore: 0.9833333333333333\n",
      "K: 5\n",
      "\tp: 1\n",
      "\tscore: 0.9888888888888889\n",
      "\tp: 2\n",
      "\tscore: 0.9888888888888889\n",
      "\tp: 3\n",
      "\tscore: 0.9861111111111112\n",
      "\tp: 4\n",
      "\tscore: 0.9861111111111112\n",
      "\tp: 5\n",
      "\tscore: 0.9805555555555555\n",
      "K: 6\n",
      "\tp: 1\n",
      "\tscore: 0.9833333333333333\n",
      "\tp: 2\n",
      "\tscore: 0.9888888888888889\n",
      "\tp: 3\n",
      "\tscore: 0.9888888888888889\n",
      "\tp: 4\n",
      "\tscore: 0.9833333333333333\n",
      "\tp: 5\n",
      "\tscore: 0.9805555555555555\n",
      "K: 7\n",
      "\tp: 1\n",
      "\tscore: 0.9861111111111112\n",
      "\tp: 2\n",
      "\tscore: 0.9888888888888889\n",
      "\tp: 3\n",
      "\tscore: 0.9861111111111112\n",
      "\tp: 4\n",
      "\tscore: 0.9833333333333333\n",
      "\tp: 5\n",
      "\tscore: 0.9833333333333333\n",
      "K: 8\n",
      "\tp: 1\n",
      "\tscore: 0.9861111111111112\n",
      "\tp: 2\n",
      "\tscore: 0.9888888888888889\n",
      "\tp: 3\n",
      "\tscore: 0.9888888888888889\n",
      "\tp: 4\n",
      "\tscore: 0.9861111111111112\n",
      "\tp: 5\n",
      "\tscore: 0.9833333333333333\n",
      "K: 9\n",
      "\tp: 1\n",
      "\tscore: 0.9861111111111112\n",
      "\tp: 2\n",
      "\tscore: 0.9861111111111112\n",
      "\tp: 3\n",
      "\tscore: 0.9888888888888889\n",
      "\tp: 4\n",
      "\tscore: 0.9888888888888889\n",
      "\tp: 5\n",
      "\tscore: 0.9833333333333333\n",
      "K: 10\n",
      "\tp: 1\n",
      "\tscore: 0.9833333333333333\n",
      "\tp: 2\n",
      "\tscore: 0.9861111111111112\n",
      "\tp: 3\n",
      "\tscore: 0.9888888888888889\n",
      "\tp: 4\n",
      "\tscore: 0.9861111111111112\n",
      "\tp: 5\n",
      "\tscore: 0.9833333333333333\n",
      "best p: 2\n",
      "best K: 3\n",
      "best score: 0.9888888888888889\n",
      "Wall time: 37.1 s\n"
     ]
    }
   ],
   "source": [
    "%%time\n",
    "best_p = -1\n",
    "best_score = 0.0\n",
    "best_k = -1 \n",
    "\n",
    "for k in range(1, 11):\n",
    "    print(\"K:\", k)\n",
    "    for p in range(1, 6):\n",
    "        knn_clf = KNeighborsClassifier(n_neighbors=k, weights=\"distance\", p=p)\n",
    "        knn_clf.fit(x_train, y_train)\n",
    "        score = knn_clf.score(x_test, y_test)\n",
    "        if score > best_score:\n",
    "            best_score = score\n",
    "            best_k = k\n",
    "            best_p = p  \n",
    "        print(\"\\tp:\", p)\n",
    "        print(\"\\tscore:\", score)\n",
    "\n",
    "print(\"best p:\", best_p)           \n",
    "print(\"best K:\", best_k)\n",
    "print(\"best score:\", best_score)"
   ]
  },
  {
   "cell_type": "code",
   "execution_count": null,
   "metadata": {},
   "outputs": [],
   "source": []
  }
 ],
 "metadata": {
  "kernelspec": {
   "display_name": "Python 3",
   "language": "python",
   "name": "python3"
  },
  "language_info": {
   "codemirror_mode": {
    "name": "ipython",
    "version": 3
   },
   "file_extension": ".py",
   "mimetype": "text/x-python",
   "name": "python",
   "nbconvert_exporter": "python",
   "pygments_lexer": "ipython3",
   "version": "3.7.3"
  }
 },
 "nbformat": 4,
 "nbformat_minor": 2
}
