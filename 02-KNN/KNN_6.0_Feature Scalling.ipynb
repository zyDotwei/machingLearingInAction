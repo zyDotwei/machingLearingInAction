{
 "cells": [
  {
   "cell_type": "markdown",
   "metadata": {},
   "source": [
    "## 数据归一化处理"
   ]
  },
  {
   "cell_type": "code",
   "execution_count": 1,
   "metadata": {},
   "outputs": [],
   "source": [
    "import numpy as np\n",
    "import matplotlib.pyplot as plt"
   ]
  },
  {
   "cell_type": "markdown",
   "metadata": {},
   "source": [
    "### 最值归一化 Normalization"
   ]
  },
  {
   "cell_type": "code",
   "execution_count": 2,
   "metadata": {},
   "outputs": [
    {
     "data": {
      "text/plain": [
       "array([84,  5, 13, 96,  2,  3, 66, 90, 50, 92, 94, 44, 91, 82, 59, 38,  9,\n",
       "       99, 97, 75, 23, 54, 32, 38, 73, 83, 78, 47, 32,  8, 82, 89, 80, 15,\n",
       "       52, 69, 39, 51, 12, 96, 28, 83,  1, 29,  1, 90, 95, 79, 66, 44, 75,\n",
       "       80, 18, 27,  5, 94, 79, 43, 17, 11, 72, 82,  6, 22, 41, 51, 94, 33,\n",
       "       71, 71, 49, 81, 43, 12, 27, 32, 80, 19, 91, 87, 14, 72, 27, 98, 29,\n",
       "       33, 81, 33, 99, 63, 14, 76, 19, 25,  7, 55, 33, 91, 17, 44])"
      ]
     },
     "execution_count": 2,
     "metadata": {},
     "output_type": "execute_result"
    }
   ],
   "source": [
    "x = np.random.randint(0, 100, size=100)\n",
    "x"
   ]
  },
  {
   "cell_type": "code",
   "execution_count": 3,
   "metadata": {},
   "outputs": [
    {
     "data": {
      "text/plain": [
       "array([0.84693878, 0.04081633, 0.12244898, 0.96938776, 0.01020408,\n",
       "       0.02040816, 0.66326531, 0.90816327, 0.5       , 0.92857143,\n",
       "       0.94897959, 0.43877551, 0.91836735, 0.82653061, 0.59183673,\n",
       "       0.37755102, 0.08163265, 1.        , 0.97959184, 0.75510204,\n",
       "       0.2244898 , 0.54081633, 0.31632653, 0.37755102, 0.73469388,\n",
       "       0.83673469, 0.78571429, 0.46938776, 0.31632653, 0.07142857,\n",
       "       0.82653061, 0.89795918, 0.80612245, 0.14285714, 0.52040816,\n",
       "       0.69387755, 0.3877551 , 0.51020408, 0.1122449 , 0.96938776,\n",
       "       0.2755102 , 0.83673469, 0.        , 0.28571429, 0.        ,\n",
       "       0.90816327, 0.95918367, 0.79591837, 0.66326531, 0.43877551,\n",
       "       0.75510204, 0.80612245, 0.17346939, 0.26530612, 0.04081633,\n",
       "       0.94897959, 0.79591837, 0.42857143, 0.16326531, 0.10204082,\n",
       "       0.7244898 , 0.82653061, 0.05102041, 0.21428571, 0.40816327,\n",
       "       0.51020408, 0.94897959, 0.32653061, 0.71428571, 0.71428571,\n",
       "       0.48979592, 0.81632653, 0.42857143, 0.1122449 , 0.26530612,\n",
       "       0.31632653, 0.80612245, 0.18367347, 0.91836735, 0.87755102,\n",
       "       0.13265306, 0.7244898 , 0.26530612, 0.98979592, 0.28571429,\n",
       "       0.32653061, 0.81632653, 0.32653061, 1.        , 0.63265306,\n",
       "       0.13265306, 0.76530612, 0.18367347, 0.24489796, 0.06122449,\n",
       "       0.55102041, 0.32653061, 0.91836735, 0.16326531, 0.43877551])"
      ]
     },
     "execution_count": 3,
     "metadata": {},
     "output_type": "execute_result"
    }
   ],
   "source": [
    "(x - np.min(x)) / (np.max(x) - np.min(x))"
   ]
  },
  {
   "cell_type": "code",
   "execution_count": 5,
   "metadata": {},
   "outputs": [],
   "source": [
    "X = np.random.randint(0, 100, (50, 2))"
   ]
  },
  {
   "cell_type": "code",
   "execution_count": 6,
   "metadata": {},
   "outputs": [
    {
     "data": {
      "text/plain": [
       "array([[76, 92],\n",
       "       [ 5, 81],\n",
       "       [ 1, 53],\n",
       "       [90, 61],\n",
       "       [ 7,  7],\n",
       "       [49, 22],\n",
       "       [72, 35],\n",
       "       [94, 13],\n",
       "       [ 6, 23],\n",
       "       [75, 55]])"
      ]
     },
     "execution_count": 6,
     "metadata": {},
     "output_type": "execute_result"
    }
   ],
   "source": [
    "X[:10]"
   ]
  },
  {
   "cell_type": "code",
   "execution_count": 7,
   "metadata": {},
   "outputs": [],
   "source": [
    "X = np.array(X, dtype=float)"
   ]
  },
  {
   "cell_type": "code",
   "execution_count": 8,
   "metadata": {},
   "outputs": [
    {
     "data": {
      "text/plain": [
       "array([[76., 92.],\n",
       "       [ 5., 81.],\n",
       "       [ 1., 53.],\n",
       "       [90., 61.],\n",
       "       [ 7.,  7.],\n",
       "       [49., 22.],\n",
       "       [72., 35.],\n",
       "       [94., 13.],\n",
       "       [ 6., 23.],\n",
       "       [75., 55.]])"
      ]
     },
     "execution_count": 8,
     "metadata": {},
     "output_type": "execute_result"
    }
   ],
   "source": [
    "X[:10, :]"
   ]
  },
  {
   "cell_type": "code",
   "execution_count": 9,
   "metadata": {},
   "outputs": [
    {
     "data": {
      "text/plain": [
       "array([0.78947368, 0.04210526, 0.        , 0.93684211, 0.06315789,\n",
       "       0.50526316, 0.74736842, 0.97894737, 0.05263158, 0.77894737,\n",
       "       0.94736842, 0.13684211, 0.04210526, 0.4       , 0.41052632,\n",
       "       0.93684211, 0.83157895, 0.21052632, 0.76842105, 0.69473684,\n",
       "       0.15789474, 0.87368421, 0.67368421, 0.26315789, 0.49473684,\n",
       "       0.94736842, 0.38947368, 0.07368421, 0.44210526, 0.96842105,\n",
       "       0.61052632, 0.73684211, 0.29473684, 0.45263158, 0.78947368,\n",
       "       0.04210526, 0.89473684, 1.        , 0.54736842, 0.        ,\n",
       "       0.2       , 0.89473684, 0.37894737, 0.69473684, 0.27368421,\n",
       "       0.62105263, 0.51578947, 0.71578947, 0.66315789, 0.78947368])"
      ]
     },
     "execution_count": 9,
     "metadata": {},
     "output_type": "execute_result"
    }
   ],
   "source": [
    "(X[:, 0] - np.min(X[:,0])) / (np.max(X[:, 0]) - np.min(X[:,0]))"
   ]
  },
  {
   "cell_type": "code",
   "execution_count": 10,
   "metadata": {},
   "outputs": [
    {
     "data": {
      "text/plain": [
       "array([0.92857143, 0.81632653, 0.53061224, 0.6122449 , 0.06122449,\n",
       "       0.21428571, 0.34693878, 0.12244898, 0.2244898 , 0.55102041,\n",
       "       0.45918367, 0.83673469, 0.12244898, 0.40816327, 0.71428571,\n",
       "       0.14285714, 0.17346939, 0.13265306, 0.92857143, 0.29591837,\n",
       "       0.78571429, 0.37755102, 1.        , 0.37755102, 0.82653061,\n",
       "       0.73469388, 0.67346939, 0.94897959, 0.21428571, 0.        ,\n",
       "       0.91836735, 0.90816327, 0.05102041, 0.01020408, 0.40816327,\n",
       "       0.30612245, 0.26530612, 0.70408163, 0.37755102, 0.08163265,\n",
       "       0.73469388, 0.58163265, 0.24489796, 0.01020408, 0.63265306,\n",
       "       0.24489796, 0.45918367, 0.52040816, 1.        , 0.82653061])"
      ]
     },
     "execution_count": 10,
     "metadata": {},
     "output_type": "execute_result"
    }
   ],
   "source": [
    "(X[:, 1] - np.min(X[:,1])) / (np.max(X[:, 1]) - np.min(X[:, 1]))"
   ]
  },
  {
   "cell_type": "code",
   "execution_count": 11,
   "metadata": {},
   "outputs": [],
   "source": [
    "X[:, 0] = (X[:, 0] - np.min(X[:,0])) / (np.max(X[:, 0]) - np.min(X[:,0]))"
   ]
  },
  {
   "cell_type": "code",
   "execution_count": 12,
   "metadata": {},
   "outputs": [],
   "source": [
    "X[:, 1] = (X[:, 1] - np.min(X[:,1])) / (np.max(X[:, 1]) - np.min(X[:, 1]))"
   ]
  },
  {
   "cell_type": "code",
   "execution_count": 15,
   "metadata": {},
   "outputs": [
    {
     "data": {
      "text/plain": [
       "array([[0.78947368, 0.92857143],\n",
       "       [0.04210526, 0.81632653],\n",
       "       [0.        , 0.53061224],\n",
       "       [0.93684211, 0.6122449 ],\n",
       "       [0.06315789, 0.06122449],\n",
       "       [0.50526316, 0.21428571],\n",
       "       [0.74736842, 0.34693878],\n",
       "       [0.97894737, 0.12244898],\n",
       "       [0.05263158, 0.2244898 ],\n",
       "       [0.77894737, 0.55102041]])"
      ]
     },
     "execution_count": 15,
     "metadata": {},
     "output_type": "execute_result"
    }
   ],
   "source": [
    "X[:10]"
   ]
  },
  {
   "cell_type": "code",
   "execution_count": 17,
   "metadata": {},
   "outputs": [
    {
     "data": {
      "image/png": "[encoded data removed]",
      "text/plain": [
       "<Figure size 432x288 with 1 Axes>"
      ]
     },
     "metadata": {
      "needs_background": "light"
     },
     "output_type": "display_data"
    }
   ],
   "source": [
    "plt.scatter(X[:, 0], X[:, 1])\n",
    "plt.show()"
   ]
  },
  {
   "cell_type": "code",
   "execution_count": 18,
   "metadata": {},
   "outputs": [
    {
     "data": {
      "text/plain": [
       "0.5334736842105263"
      ]
     },
     "execution_count": 18,
     "metadata": {},
     "output_type": "execute_result"
    }
   ],
   "source": [
    "np.mean(X[:, 0])"
   ]
  },
  {
   "cell_type": "code",
   "execution_count": 19,
   "metadata": {},
   "outputs": [
    {
     "data": {
      "text/plain": [
       "0.31740945881138494"
      ]
     },
     "execution_count": 19,
     "metadata": {},
     "output_type": "execute_result"
    }
   ],
   "source": [
    "np.std(X[:, 0])"
   ]
  },
  {
   "cell_type": "code",
   "execution_count": 21,
   "metadata": {},
   "outputs": [
    {
     "data": {
      "text/plain": [
       "0.47693877551020414"
      ]
     },
     "execution_count": 21,
     "metadata": {},
     "output_type": "execute_result"
    }
   ],
   "source": [
    "np.mean(X[:, 1])"
   ]
  },
  {
   "cell_type": "code",
   "execution_count": 22,
   "metadata": {},
   "outputs": [
    {
     "data": {
      "text/plain": [
       "0.3068006772485733"
      ]
     },
     "execution_count": 22,
     "metadata": {},
     "output_type": "execute_result"
    }
   ],
   "source": [
    "np.std(X[:, 1])"
   ]
  },
  {
   "cell_type": "markdown",
   "metadata": {},
   "source": [
    "### 均值方差归一化"
   ]
  },
  {
   "cell_type": "code",
   "execution_count": 23,
   "metadata": {},
   "outputs": [],
   "source": [
    "X2 = np.random.randint(0, 100, (50, 2))"
   ]
  },
  {
   "cell_type": "code",
   "execution_count": 24,
   "metadata": {},
   "outputs": [],
   "source": [
    "X2 = np.array(X2, dtype=float)"
   ]
  },
  {
   "cell_type": "code",
   "execution_count": 25,
   "metadata": {},
   "outputs": [
    {
     "data": {
      "text/plain": [
       "array([[82., 48.],\n",
       "       [53., 71.],\n",
       "       [45., 70.],\n",
       "       [72., 51.],\n",
       "       [83., 59.],\n",
       "       [66., 59.],\n",
       "       [55., 19.],\n",
       "       [16., 47.],\n",
       "       [78., 90.],\n",
       "       [40., 99.]])"
      ]
     },
     "execution_count": 25,
     "metadata": {},
     "output_type": "execute_result"
    }
   ],
   "source": [
    "X2[:10]"
   ]
  },
  {
   "cell_type": "code",
   "execution_count": 29,
   "metadata": {},
   "outputs": [],
   "source": [
    "X2[:, 0] = (X2[:, 0] - np.mean(X2[:,0])) / np.std(X2[:, 0])"
   ]
  },
  {
   "cell_type": "code",
   "execution_count": 30,
   "metadata": {},
   "outputs": [],
   "source": [
    "X2[:, 1] = (X2[:, 1] - np.mean(X2[:,1])) / np.std(X2[:, 1])"
   ]
  },
  {
   "cell_type": "code",
   "execution_count": 31,
   "metadata": {},
   "outputs": [
    {
     "data": {
      "image/png": "[encoded data removed]",
      "text/plain": [
       "<Figure size 432x288 with 1 Axes>"
      ]
     },
     "metadata": {
      "needs_background": "light"
     },
     "output_type": "display_data"
    }
   ],
   "source": [
    "plt.scatter(X2[:, 0], X2[:, 1])\n",
    "plt.show()"
   ]
  },
  {
   "cell_type": "code",
   "execution_count": 33,
   "metadata": {},
   "outputs": [
    {
     "data": {
      "text/plain": [
       "-2.0872192862952942e-16"
      ]
     },
     "execution_count": 33,
     "metadata": {},
     "output_type": "execute_result"
    }
   ],
   "source": [
    "np.mean(X2[:,0])"
   ]
  },
  {
   "cell_type": "code",
   "execution_count": 34,
   "metadata": {},
   "outputs": [
    {
     "data": {
      "text/plain": [
       "1.0"
      ]
     },
     "execution_count": 34,
     "metadata": {},
     "output_type": "execute_result"
    }
   ],
   "source": [
    "np.std(X2[:,0])"
   ]
  },
  {
   "cell_type": "code",
   "execution_count": 35,
   "metadata": {},
   "outputs": [
    {
     "data": {
      "text/plain": [
       "2.864375403532904e-16"
      ]
     },
     "execution_count": 35,
     "metadata": {},
     "output_type": "execute_result"
    }
   ],
   "source": [
    "np.mean(X2[:,1])"
   ]
  },
  {
   "cell_type": "code",
   "execution_count": 36,
   "metadata": {},
   "outputs": [
    {
     "data": {
      "text/plain": [
       "0.9999999999999998"
      ]
     },
     "execution_count": 36,
     "metadata": {},
     "output_type": "execute_result"
    }
   ],
   "source": [
    "np.std(X2[:,1])"
   ]
  },
  {
   "cell_type": "code",
   "execution_count": null,
   "metadata": {},
   "outputs": [],
   "source": []
  }
 ],
 "metadata": {
  "kernelspec": {
   "display_name": "Python 3",
   "language": "python",
   "name": "python3"
  },
  "language_info": {
   "codemirror_mode": {
    "name": "ipython",
    "version": 3
   },
   "file_extension": ".py",
   "mimetype": "text/x-python",
   "name": "python",
   "nbconvert_exporter": "python",
   "pygments_lexer": "ipython3",
   "version": "3.7.3"
  }
 },
 "nbformat": 4,
 "nbformat_minor": 2
}
