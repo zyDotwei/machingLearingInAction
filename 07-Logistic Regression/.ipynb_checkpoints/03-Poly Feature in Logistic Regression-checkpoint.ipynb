{
 "cells": [
  {
   "cell_type": "code",
   "execution_count": 1,
   "metadata": {},
   "outputs": [],
   "source": [
    "import numpy as np\n",
    "import matplotlib.pyplot as plt"
   ]
  },
  {
   "cell_type": "code",
   "execution_count": 3,
   "metadata": {},
   "outputs": [],
   "source": [
    "np.random.seed(666)\n",
    "X = np.random.normal(0, 1, size=(200, 2))\n",
    "y = np.array(X[:, 0]**2 + X[:,1] ** 2 < 1.5, dtype='int')"
   ]
  },
  {
   "cell_type": "code",
   "execution_count": 4,
   "metadata": {},
   "outputs": [
    {
     "data": {
      "image/png": "[encoded data removed]",
      "text/plain": [
       "<Figure size 432x288 with 1 Axes>"
      ]
     },
     "metadata": {
      "needs_background": "light"
     },
     "output_type": "display_data"
    }
   ],
   "source": [
    "plt.scatter(X[y==0, 0], X[y==0, 1], color='red')\n",
    "plt.scatter(X[y==1, 0], X[y==1, 1], color='blue')\n",
    "plt.show()"
   ]
  },
  {
   "cell_type": "markdown",
   "metadata": {},
   "source": [
    "## 使用逻辑回归"
   ]
  },
  {
   "cell_type": "code",
   "execution_count": 5,
   "metadata": {},
   "outputs": [],
   "source": [
    "class my_LogisticRegnession:\n",
    "    \n",
    "    def __init__(self):\n",
    "        self.conf_ = None\n",
    "        self.itercept_ = None\n",
    "        self._theta = None\n",
    "    \n",
    "    def _sigmod(self, t):\n",
    "        return 1. / (1. + np.exp(-t))\n",
    "    \n",
    "    def fit(self, X_train, y_train, eta=0.01, n_iters=1e4):\n",
    "        assert X_train.shape[0] == y_train.shape[0], \\\n",
    "            \"the size\"\n",
    "        def J(theta, X_b, y):\n",
    "            y_hat = self._sigmod(X_b.dot(theta))\n",
    "            try:\n",
    "                return -(np.sum(y * np.log(y_hat) + (1-y)*np.log(1-y_hat))) / len(y)\n",
    "            except: \n",
    "                return float('inf')\n",
    "        \n",
    "        def DJ(theta, X_b, y):\n",
    "            return X_b.T.dot(self._sigmod(X_b.dot(theta)) - y) / len(X_b)\n",
    "        \n",
    "        def gradient_descent(X_b, y, int_theta, eta, n_iters=1e4, epsilon=1e-8):\n",
    "            theta = int_theta\n",
    "            i_ters = 0\n",
    "\n",
    "            while i_ters < n_iters:\n",
    "                gradient = DJ(theta, X_b, y)\n",
    "                last_theta = theta\n",
    "                theta = theta - eta * gradient\n",
    "\n",
    "                if (abs(J(theta, X_b, y) - J(last_theta, X_b, y)) < epsilon):\n",
    "                    break\n",
    "                i_ters += 1\n",
    "\n",
    "            return theta\n",
    "        \n",
    "        X_b = np.hstack([np.ones((len(X_train), 1)), X_train]) # 为x添加一列\n",
    "        ini_theta = np.zeros(X_b.shape[1])\n",
    "        self._theta = gradient_descent(X_b, y_train,ini_theta, eta, n_iters)\n",
    "        self.itercept_ = self._theta[0]\n",
    "        self.conf_ = self._theta[1:]\n",
    "        \n",
    "        return self\n",
    "    \n",
    "    def predict_proba(self, X_predict):\n",
    "        assert self.itercept_ is not None and self.conf_ is not None, \\\n",
    "            \"fit before\"\n",
    "        assert X_predict.shape[1] == len(self.conf_), \\\n",
    "            \"number \"\n",
    "        X_b = np.hstack([np.ones((len(X_predict), 1)), X_predict])\n",
    "        \n",
    "        return self._sigmod(X_b.dot(self._theta))\n",
    "    \n",
    "    def predict(self, X_predict):\n",
    "        assert self.itercept_ is not None and self.conf_ is not None, \\\n",
    "            \"fit before\"\n",
    "        assert X_predict.shape[1] == len(self.conf_), \\\n",
    "            \"number \"\n",
    "        proba = self.predict_proba(X_predict)\n",
    "        \n",
    "        return np.array(proba >= 0.5, dtype='int')\n",
    "    \n",
    "    def accuracy_score(self, y_true, y_predict):\n",
    "        assert y_true.shape[0] == y_predict.shape[0], \"size\"\n",
    "        \n",
    "        return sum(y_true == y_predict) / len(y_true)\n",
    "        \n",
    "    def score(self, X_test, y_test):\n",
    "        y_redict = self.predict(X_test)\n",
    "        return self.accuracy_score(y_test, y_redict)\n",
    "    \n",
    "    def __repr__(self):\n",
    "        return \"my_LogisticRegnession()\""
   ]
  },
  {
   "cell_type": "code",
   "execution_count": 6,
   "metadata": {},
   "outputs": [
    {
     "data": {
      "text/plain": [
       "my_LogisticRegnession()"
      ]
     },
     "execution_count": 6,
     "metadata": {},
     "output_type": "execute_result"
    }
   ],
   "source": [
    "log_reg = my_LogisticRegnession()\n",
    "log_reg.fit(X, y)"
   ]
  },
  {
   "cell_type": "code",
   "execution_count": 7,
   "metadata": {},
   "outputs": [
    {
     "data": {
      "text/plain": [
       "0.605"
      ]
     },
     "execution_count": 7,
     "metadata": {},
     "output_type": "execute_result"
    }
   ],
   "source": [
    "log_reg.score(X, y)"
   ]
  },
  {
   "cell_type": "code",
   "execution_count": 8,
   "metadata": {},
   "outputs": [],
   "source": [
    "def plot_decision_boundary(model,axis):#绘图模块      \n",
    "    x0,x1 = np.meshgrid(            \n",
    "        np.linspace(axis[0], axis[1], int((axis[1] - axis[0]) * 100)).reshape(-1, 1),  \n",
    "        np.linspace(axis[2], axis[3], int((axis[3] - axis[2]) * 100)).reshape(-1, 1) \n",
    "    )      \n",
    "    # np.c_ 按列叠加两个矩阵的意思，也可以说是按行连接两个矩阵，就是把两矩阵左右相加，要求行数相等\n",
    "    x_new = np.c_[x0.ravel(),x1.ravel()]   # ravel() 降维操作\n",
    "    \n",
    "    y_predict = model.predict(x_new)   \n",
    "    zz = y_predict.reshape(x0.shape)    \n",
    "    \n",
    "    from matplotlib.colors import ListedColormap    \n",
    "    custom_cmap = ListedColormap(['#EF9A9A', '#FFF59D','#90CAF9'])    \n",
    "    plt.contourf(x0, x1, zz, linewidth=5, cmap=custom_cmap) "
   ]
  },
  {
   "cell_type": "code",
   "execution_count": 9,
   "metadata": {},
   "outputs": [
    {
     "name": "stderr",
     "output_type": "stream",
     "text": [
      "d:\\Users\\wzy\\Anaconda3\\lib\\site-packages\\matplotlib\\contour.py:1000: UserWarning: The following kwargs were not used by contour: 'linewidth'\n",
      "  s)\n"
     ]
    },
    {
     "data": {
      "image/png": "[encoded data removed]",
      "text/plain": [
       "<Figure size 432x288 with 1 Axes>"
      ]
     },
     "metadata": {
      "needs_background": "light"
     },
     "output_type": "display_data"
    }
   ],
   "source": [
    "plot_decision_boundary(log_reg,axis=[-4, 4, -4, 4])\n",
    "plt.scatter(X[y==0, 0], X[y==0, 1], color='red')\n",
    "plt.scatter(X[y==1, 0], X[y==1, 1], color='blue')\n",
    "plt.show()"
   ]
  },
  {
   "cell_type": "code",
   "execution_count": 12,
   "metadata": {},
   "outputs": [],
   "source": [
    "from sklearn.pipeline import Pipeline\n",
    "from sklearn.preprocessing import PolynomialFeatures\n",
    "from sklearn.preprocessing import StandardScaler\n",
    "\n",
    "def PolynormialLogisticRegression(degrees):\n",
    "    return Pipeline([\n",
    "        ('poly', PolynomialFeatures(degree=degrees)),\n",
    "        ('std_scalar', StandardScaler()),\n",
    "        ('log_reg', my_LogisticRegnession())\n",
    "    ])"
   ]
  },
  {
   "cell_type": "code",
   "execution_count": 13,
   "metadata": {},
   "outputs": [
    {
     "data": {
      "text/plain": [
       "Pipeline(memory=None,\n",
       "     steps=[('poly', PolynomialFeatures(degree=2, include_bias=True, interaction_only=False)), ('std_scalar', StandardScaler(copy=True, with_mean=True, with_std=True)), ('log_reg', my_LogisticRegnession())])"
      ]
     },
     "execution_count": 13,
     "metadata": {},
     "output_type": "execute_result"
    }
   ],
   "source": [
    "poly_log_reg = PolynormialLogisticRegression(degrees=2)\n",
    "poly_log_reg.fit(X, y)"
   ]
  },
  {
   "cell_type": "code",
   "execution_count": 14,
   "metadata": {},
   "outputs": [
    {
     "data": {
      "text/plain": [
       "0.95"
      ]
     },
     "execution_count": 14,
     "metadata": {},
     "output_type": "execute_result"
    }
   ],
   "source": [
    "poly_log_reg.score(X, y)"
   ]
  },
  {
   "cell_type": "code",
   "execution_count": 16,
   "metadata": {},
   "outputs": [
    {
     "name": "stderr",
     "output_type": "stream",
     "text": [
      "d:\\Users\\wzy\\Anaconda3\\lib\\site-packages\\matplotlib\\contour.py:1000: UserWarning: The following kwargs were not used by contour: 'linewidth'\n",
      "  s)\n"
     ]
    },
    {
     "data": {
      "image/png": "[encoded data removed]",
      "text/plain": [
       "<Figure size 432x288 with 1 Axes>"
      ]
     },
     "metadata": {
      "needs_background": "light"
     },
     "output_type": "display_data"
    }
   ],
   "source": [
    "plot_decision_boundary(poly_log_reg,axis=[-4, 4, -4, 4])\n",
    "plt.scatter(X[y==0, 0], X[y==0, 1], color='red')\n",
    "plt.scatter(X[y==1, 0], X[y==1, 1], color='blue')\n",
    "plt.show()"
   ]
  },
  {
   "cell_type": "code",
   "execution_count": 17,
   "metadata": {},
   "outputs": [
    {
     "data": {
      "text/plain": [
       "Pipeline(memory=None,\n",
       "     steps=[('poly', PolynomialFeatures(degree=20, include_bias=True, interaction_only=False)), ('std_scalar', StandardScaler(copy=True, with_mean=True, with_std=True)), ('log_reg', my_LogisticRegnession())])"
      ]
     },
     "execution_count": 17,
     "metadata": {},
     "output_type": "execute_result"
    }
   ],
   "source": [
    "poly_log_reg2 = PolynormialLogisticRegression(degrees=20)\n",
    "poly_log_reg2.fit(X, y)"
   ]
  },
  {
   "cell_type": "code",
   "execution_count": 18,
   "metadata": {},
   "outputs": [
    {
     "data": {
      "text/plain": [
       "0.955"
      ]
     },
     "execution_count": 18,
     "metadata": {},
     "output_type": "execute_result"
    }
   ],
   "source": [
    "poly_log_reg2.score(X, y)"
   ]
  },
  {
   "cell_type": "code",
   "execution_count": 19,
   "metadata": {},
   "outputs": [
    {
     "name": "stderr",
     "output_type": "stream",
     "text": [
      "d:\\Users\\wzy\\Anaconda3\\lib\\site-packages\\matplotlib\\contour.py:1000: UserWarning: The following kwargs were not used by contour: 'linewidth'\n",
      "  s)\n"
     ]
    },
    {
     "data": {
      "image/png": "[encoded data removed]",
      "text/plain": [
       "<Figure size 432x288 with 1 Axes>"
      ]
     },
     "metadata": {
      "needs_background": "light"
     },
     "output_type": "display_data"
    }
   ],
   "source": [
    "plot_decision_boundary(poly_log_reg2,axis=[-4, 4, -4, 4])\n",
    "plt.scatter(X[y==0, 0], X[y==0, 1], color='red')\n",
    "plt.scatter(X[y==1, 0], X[y==1, 1], color='blue')\n",
    "plt.show()"
   ]
  },
  {
   "cell_type": "code",
   "execution_count": null,
   "metadata": {},
   "outputs": [],
   "source": []
  }
 ],
 "metadata": {
  "kernelspec": {
   "display_name": "Python 3",
   "language": "python",
   "name": "python3"
  },
  "language_info": {
   "codemirror_mode": {
    "name": "ipython",
    "version": 3
   },
   "file_extension": ".py",
   "mimetype": "text/x-python",
   "name": "python",
   "nbconvert_exporter": "python",
   "pygments_lexer": "ipython3",
   "version": "3.7.3"
  }
 },
 "nbformat": 4,
 "nbformat_minor": 2
}
